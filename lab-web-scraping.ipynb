{
 "cells": [
  {
   "cell_type": "markdown",
   "id": "7e7a1ab8-2599-417d-9a65-25ef07f3a786",
   "metadata": {
    "id": "7e7a1ab8-2599-417d-9a65-25ef07f3a786"
   },
   "source": [
    "# Lab | Web Scraping"
   ]
  },
  {
   "cell_type": "markdown",
   "id": "ce8882fc-4815-4567-92fa-b4816358ba7d",
   "metadata": {
    "id": "ce8882fc-4815-4567-92fa-b4816358ba7d"
   },
   "source": [
    "Welcome to the IMDb Web Scraping Adventure Lab!\n",
    "\n",
    "**Objective**\n",
    "\n",
    "In this lab, we will embark on a mission to unearth valuable insights from the vast sea of data available on IMDb, one of the largest online databases of movie, TV, and celebrity information. As budding data scientists and business analysts, you have been tasked to scrape a specific subset of data from IMDb to assist film production companies in understanding the landscape of highly-rated movies in a defined time period. Your insights will potentially influence the making of the next netflix movie!\n",
    "\n",
    "**Background**\n",
    "\n",
    "In a world where data has become the new currency, businesses are leveraging big data to make informed decisions that drive success and profitability. The entertainment industry, being no exception, utilizes data analytics to comprehend market trends, audience preferences, and the performance of films based on various parameters such as director, genre, stars involved, etc. IMDb stands as a goldmine of such data, offering intricate details of almost every movie ever made.\n",
    "\n",
    "**Task**\n",
    "\n",
    "Your task is to create a Python script using `BeautifulSoup` and `pandas` to scrape IMDb movie data based on user ratings and release dates. This script should be able to filter movies with ratings above a certain threshold and within a specified date range.\n",
    "\n",
    "**Expected Outcome**\n",
    "\n",
    "- A function named `scrape_imdb` that takes four parameters: `title_type`,`user_rating`, `start_date`, and `end_date`.\n",
    "- The function should return a DataFrame with the following columns:\n",
    "  - **Movie Nr**: The number representing the movie’s position in the list.\n",
    "  - **Title**: The title of the movie.\n",
    "  - **Year**: The year the movie was released.\n",
    "  - **Rating**: The IMDb rating of the movie.\n",
    "  - **Runtime (min)**: The duration of the movie in minutes.\n",
    "  - **Genre**: The genre of the movie.\n",
    "  - **Description**: A brief description of the movie.\n",
    "  - **Director**: The director of the movie.\n",
    "  - **Stars**: The main stars of the movie.\n",
    "  - **Votes**: The number of votes the movie received.\n",
    "  - **Gross ($M)**: The gross earnings of the movie in millions of USD.\n",
    "\n",
    "You will execute this script to scrape data for movies with the Title Type `Feature Film` that have a user rating of `7.5 and above` and were released between `January 1, 1990, and December 31, 1992`.\n",
    "\n",
    "Remember to experiment with different title types, dates and ratings to ensure your code is versatile and can handle various searches effectively!\n",
    "\n",
    "**Resources**\n",
    "\n",
    "- [Beautiful Soup Documentation](https://www.crummy.com/software/BeautifulSoup/bs4/doc/)\n",
    "- [Pandas Documentation](https://pandas.pydata.org/pandas-docs/stable/index.html)\n",
    "- [IMDb Advanced Search](https://www.imdb.com/search/title/)\n"
   ]
  },
  {
   "cell_type": "markdown",
   "id": "3519921d-5890-445b-9a33-934ed8ee378c",
   "metadata": {
    "id": "3519921d-5890-445b-9a33-934ed8ee378c"
   },
   "source": [
    "**Hint**\n",
    "\n",
    "Your first mission is to familiarize yourself with the IMDb advanced search page. Head over to [IMDb advanced search](https://www.imdb.com/search/title/) and input the following parameters, keeping all other fields to their default values or blank:\n",
    "\n",
    "- **Title Type**: Feature film\n",
    "- **Release date**: From 1990 to 1992 (Note: You don't need to specify the day and month)\n",
    "- **User Rating**: 7.5 to -\n",
    "\n",
    "Upon searching, you'll land on a page showcasing a list of movies, each displaying vital details such as the title, release year, and crew information. Your task is to scrape this treasure trove of data.\n",
    "\n",
    "Carefully examine the resulting URL and construct your own URL to include all the necessary parameters for filtering the movies."
   ]
  },
  {
   "cell_type": "markdown",
   "id": "25a83a0d-a742-49f6-985e-e27887cbf922",
   "metadata": {
    "id": "25a83a0d-a742-49f6-985e-e27887cbf922"
   },
   "source": [
    "\n",
    "---\n",
    "\n",
    "**Best of luck! Immerse yourself in the world of movies and may the data be with you!**"
   ]
  },
  {
   "cell_type": "markdown",
   "id": "7b75cf0d-9afa-4eec-a9e2-befeac68b2a0",
   "metadata": {
    "id": "7b75cf0d-9afa-4eec-a9e2-befeac68b2a0"
   },
   "source": [
    "**Important note**:\n",
    "\n",
    "In the fast-changing online world, websites often get updates and make changes. When you try this lab, the IMDb website might be different from what we expect.\n",
    "\n",
    "If you run into problems because of these changes, like new rules or things that stop you from getting data, don't worry! Instead, get creative.\n",
    "\n",
    "You can choose another website that interests you and is good for scraping data. Websites like Wikipedia or The New York Times are good options. The main goal is still the same: get useful data and learn how to scrape it from a website that you find interesting. It's a chance to practice your web scraping skills and explore a source of information you like."
   ]
  },
  {
   "cell_type": "code",
   "execution_count": 13,
   "id": "40359eee-9cd7-4884-bfa4-83344c222305",
   "metadata": {
    "id": "40359eee-9cd7-4884-bfa4-83344c222305"
   },
   "outputs": [
    {
     "data": {
      "text/plain": [
       "200"
      ]
     },
     "execution_count": 13,
     "metadata": {},
     "output_type": "execute_result"
    }
   ],
   "source": [
    "# Your solution goes here\n",
    "\n",
    "import requests\n",
    "\n",
    "url = \"https://www.yugioh-card.com/en/products/structure-deck/\"\n",
    "response = requests.get(url)\n",
    "response.status_code"
   ]
  },
  {
   "cell_type": "code",
   "execution_count": 14,
   "id": "e66b5392",
   "metadata": {},
   "outputs": [],
   "source": [
    "from bs4 import BeautifulSoup\n",
    "\n",
    "soup = BeautifulSoup(response.content)"
   ]
  },
  {
   "cell_type": "code",
   "execution_count": null,
   "id": "69168f9c",
   "metadata": {},
   "outputs": [],
   "source": [
    "<a class=\"btn\" href=\"/en/products/sdfk/\">Learn more &gt;</a>"
   ]
  },
  {
   "cell_type": "code",
   "execution_count": 16,
   "id": "8f8f7b70",
   "metadata": {},
   "outputs": [
    {
     "data": {
      "text/plain": [
       "[<a class=\"btn\" href=\"/en/products/sdfk/\">Learn more &gt;</a>,\n",
       " <a class=\"btn\" href=\"/en/products/sdck/\">Learn more &gt;</a>,\n",
       " <a class=\"btn\" href=\"/en/products/sdbt/\">Learn more &gt;</a>,\n",
       " <a class=\"btn\" href=\"/en/products/sr13/\">Learn more &gt;</a>,\n",
       " <a class=\"btn\" href=\"/en/products/sdlc/\">Learn more &gt;</a>,\n",
       " <a class=\"btn\" href=\"/en/products/sdaz/\">Learn more &gt;</a>,\n",
       " <a class=\"btn\" href=\"/en/products/sdcs/\">Learn more &gt;</a>,\n",
       " <a class=\"btn\" href=\"/en/products/sdfc/\">Learn more &gt;</a>,\n",
       " <a class=\"btn\" href=\"/en/products/sdsc/\">Learn more &gt;</a>,\n",
       " <a class=\"btn\" href=\"/en/products/sd_sacredbeasts/\">Learn more &gt;</a>,\n",
       " <a class=\"btn\" href=\"/en/products/sr10/\">Learn more &gt;</a>,\n",
       " <a class=\"btn\" href=\"/en/products/sdsh/\">Learn more &gt;</a>,\n",
       " <a class=\"btn\" href=\"/en/products/sdrr/\">Learn more &gt;</a>,\n",
       " <a class=\"btn\" href=\"/en/products/sr08/\">Learn more &gt;</a>,\n",
       " <a class=\"btn\" href=\"/en/products/sdsb/\">Learn more &gt;</a>,\n",
       " <a class=\"btn\" href=\"/en/products/sr07/\">Learn more &gt;</a>,\n",
       " <a class=\"btn\" href=\"/en/products/sdpl/\">Learn more &gt;</a>,\n",
       " <a class=\"btn\" href=\"/en/products/sr06/\">Learn more &gt;</a>,\n",
       " <a class=\"btn\" href=\"/en/products/sr05/\">Learn more &gt;</a>]"
      ]
     },
     "execution_count": 16,
     "metadata": {},
     "output_type": "execute_result"
    }
   ],
   "source": [
    "soup.find_all(\"a\", class_=\"btn\")#links"
   ]
  },
  {
   "cell_type": "code",
   "execution_count": 20,
   "id": "ae9d6449",
   "metadata": {},
   "outputs": [],
   "source": [
    "soup.get('href')"
   ]
  },
  {
   "cell_type": "code",
   "execution_count": 24,
   "id": "508e0eaf",
   "metadata": {},
   "outputs": [
    {
     "data": {
      "text/plain": [
       "[<a href=\"https://www.konami.com/games\"><img alt=\"Konami\" class=\"logoKonami\" src=\"https://img.yugioh-card.com/ci/logo/konami_logo_normal.png\"/></a>,\n",
       " <a href=\"https://www.yugioh-card.com/lat-am/\">Español</a>,\n",
       " <a href=\"https://www.yugioh-card.com/lat-am/pt/\">Português</a>,\n",
       " <a class=\"logoMainMobileBtn\" href=\"/en\"><img alt=\"Yu-Gi-Oh!\" class=\"logoMainMobile\" src=\"/en/wp-content/uploads/2020/04/logo-main.png\" width=\"264\"/></a>,\n",
       " <a class=\"navMenuBtn\" href=\"#\"><img alt=\"Menu\" class=\"navMenuIcon\" src=\"/en/wp-content/uploads/2020/04/nav-menu-icon.svg\"/></a>,\n",
       " <a href=\"/en\"><img alt=\"Yu-Gi-Oh! TRADING CARD GAME\" class=\"logoMain\" src=\"/en/wp-content/uploads/2020/04/logo-main.png\" width=\"264\"/></a>,\n",
       " <a data-target=\"menuProducts\" href=\"/en/products\">Products</a>,\n",
       " <a data-target=\"menuPlay\" href=\"/en/play\">Play</a>,\n",
       " <a data-target=\"menuEvents\" href=\"/en/events\">Events</a>,\n",
       " <a data-target=\"menuNews\" href=\"/en/news\">News</a>,\n",
       " <a data-target=\"menuForParents\" href=\"/en/for-parents\">New To Yu-Gi-Oh!</a>,\n",
       " <a href=\"/en/remoteduel/\">Learn More &gt;</a>,\n",
       " <a href=\"/en/\">Home</a>,\n",
       " <a href=\"/en/newsletter/\">Sign up for our newsletter!</a>,\n",
       " <a href=\"/en/rulebook/\">Rulebook &amp; Beginner’s Guide</a>,\n",
       " <a href=\"/en/forbeginners/\">Yu-Gi-Oh! For Beginners</a>,\n",
       " <a href=\"/en/speedduel/\">Speed Duel</a>,\n",
       " <a href=\"/en/external-link/\">External Link</a>,\n",
       " <a href=\"/en/judges/\">Judge Program</a>,\n",
       " <a href=\"/en/ots_program/\">Official Tournament Store Program</a>,\n",
       " <a href=\"/en/limited/\">Forbidden &amp; Limited Lists</a>,\n",
       " <a href=\"/en/remoteduel/\">Remote Duel</a>,\n",
       " <a href=\"/en/events/\">Events</a>,\n",
       " <a href=\"/en/events/organizedplay/\">Organized Play Forms &amp; Policies</a>,\n",
       " <a href=\"/en/for-parents/\">About Yu-Gi-Oh!</a>,\n",
       " <a href=\"/en/news/\">News</a>,\n",
       " <a href=\"/en/play/\">Play</a>,\n",
       " <a href=\"/en/play/advanced-rules/\">Advanced Rules Information</a>,\n",
       " <a href=\"/en/products/\">Products</a>,\n",
       " <a href=\"/en/products/booster-pack/\">Booster Packs</a>,\n",
       " <a aria-current=\"page\" href=\"/en/products/structure-deck/\">Structure Decks</a>,\n",
       " <a href=\"/en/products/tins/\">Tins</a>,\n",
       " <a href=\"/en/products/starter-deck/\">Starter Decks</a>,\n",
       " <a href=\"/en/products/others/\">Others</a>,\n",
       " <a href=\"/en/products/speed-duel/\">Speed Duel</a>,\n",
       " <a href=\"/en/products/tournament-packs/\">OTS Tournament Packs</a>,\n",
       " <a href=\"/en/products/accessories/\">Accessories</a>,\n",
       " <a href=\"/en/products/digital/\">Games/Apps</a>,\n",
       " <a href=\"/en/limited/\">Forbidden &amp; Limited Lists</a>,\n",
       " <a href=\"/en/rulebook/\">Rulebook &amp; Beginner’s Guide</a>,\n",
       " <a href=\"https://www.db.yugioh-card.com/yugiohdb/\">Yu-Gi-Oh! Card Database</a>,\n",
       " <a href=\"https://yugiohblog.konami.com/articles/\">Strategy Articles</a>,\n",
       " <a href=\"/en/play/alternate_format_tournaments/\">Alternate Format Tournaments</a>,\n",
       " <a href=\"/en/events/world-championships\">World Championship</a>,\n",
       " <a href=\"/en/events/world-championship-qualifier/\">World Championship Qualifiers</a>,\n",
       " <a href=\"/en/events/ygo-championship-series\">Yu-Gi-Oh! Championship Series</a>,\n",
       " <a href=\"/en/events/national-qualifier\">National Qualifiers</a>,\n",
       " <a href=\"/en/events/regional-qualifier\">Regional Qualifiers</a>,\n",
       " <a href=\"/en/events/hoc/\">Hall of Champions</a>,\n",
       " <a href=\"/en/events/kcgn/\">Konami Card Game Network (KCGN)</a>,\n",
       " <a href=\"/en/events/rankings/wcq-invite-lists/\">WCQ Invite Lists</a>,\n",
       " <a href=\"/en/events/wqp/\">World Qualifying Points</a>,\n",
       " <a href=\"/en/judges/\">Judge Program</a>,\n",
       " <a href=\"/en/events/organizedplay/\">Organized Play Forms &amp; Policies</a>,\n",
       " <a href=\"/en/events/ots-locations/\">Official Tournament Stores</a>,\n",
       " <a href=\"/en/events/core-booster-premiere/\">Core Booster Premiere!</a>,\n",
       " <a href=\"/en/events/ygo-day\">Yu-Gi-Oh! Day</a>,\n",
       " <a href=\"/en/events/backtoduel/\">Back To Duel</a>,\n",
       " <a href=\"/en/events/lost-art/\">The Lost Art Promotion</a>,\n",
       " <a href=\"/en/news/\">Latest News</a>,\n",
       " <a href=\"/en/about/new-to-ygo/\">New to Yu-Gi-Oh!</a>,\n",
       " <a href=\"/en/about/faq-for-parents/\">FAQ’s For Parents</a>,\n",
       " <a href=\"/en/about/contact-us/\">Contact Us</a>,\n",
       " <a href=\"/en/\">Home</a>,\n",
       " <a href=\"/en/products\">Products</a>,\n",
       " <a href=\"#\"><span class=\"pick\">Structure Decks</span><span class=\"arrow\">∨</span></a>,\n",
       " <a href=\"/en/products/booster-pack/\">Booster Packs</a>,\n",
       " <a href=\"/en/products/structure-deck/\">Structure Decks</a>,\n",
       " <a href=\"/en/products/tins/\">Tins</a>,\n",
       " <a href=\"/en/products/starter-deck/\">Starter Decks</a>,\n",
       " <a href=\"/en/products/others/\">Others</a>,\n",
       " <a href=\"/en/products/speed-duel/\">Speed Duel</a>,\n",
       " <a href=\"/en/products/tournament-packs/\">OTS Tournament Packs</a>,\n",
       " <a href=\"/en/products/accessories/\">Accessories</a>,\n",
       " <a href=\"/en/products/digital/\">Games/Apps</a>,\n",
       " <a href=\"#\"><img alt=\"Structure Deck: Fire Kings\" src=\"/en/wp-content/uploads/2023/09/SR14_550.png\"/></a>,\n",
       " <a href=\"#\">Structure Deck: Fire Kings</a>,\n",
       " <a class=\"btn\" href=\"/en/products/sdfk/\">Learn more &gt;</a>,\n",
       " <a href=\"#\"><img alt=\"Structure Deck: The Crimson King\" src=\"/en/wp-content/uploads/2023/05/SDCK_550.png\"/></a>,\n",
       " <a href=\"#\">Structure Deck: The Crimson King</a>,\n",
       " <a class=\"btn\" href=\"/en/products/sdck/\">Learn more &gt;</a>,\n",
       " <a href=\"#\"><img alt=\"Structure Deck: Beware of Traptrix\" src=\"/en/wp-content/uploads/2022/10/SDBT_550.png\"/></a>,\n",
       " <a href=\"#\">Structure Deck: Beware of Traptrix</a>,\n",
       " <a class=\"btn\" href=\"/en/products/sdbt/\">Learn more &gt;</a>,\n",
       " <a href=\"#\"><img alt=\"Structure Deck: Dark World\" src=\"/en/wp-content/uploads/2022/08/SR13_tuck_550.png\"/></a>,\n",
       " <a href=\"#\">Structure Deck: Dark World</a>,\n",
       " <a class=\"btn\" href=\"/en/products/sr13/\">Learn more &gt;</a>,\n",
       " <a href=\"#\"><img alt=\"Structure Deck: Legend of the Crystal Beasts\" src=\"/en/wp-content/uploads/2022/04/SDCB_550.png\"/></a>,\n",
       " <a href=\"#\">Structure Deck: Legend of the Crystal Beasts</a>,\n",
       " <a class=\"btn\" href=\"/en/products/sdlc/\">Learn more &gt;</a>,\n",
       " <a href=\"#\"><img alt=\"Structure Deck: Albaz Strike\" src=\"/en/wp-content/uploads/2021/10/SDAZ_550.png\"/></a>,\n",
       " <a href=\"#\">Structure Deck: Albaz Strike</a>,\n",
       " <a class=\"btn\" href=\"/en/products/sdaz/\">Learn more &gt;</a>,\n",
       " <a href=\"#\"><img alt=\"Structure Deck: Cyber Strike\" src=\"/en/wp-content/uploads/2021/05/SDCS_550.png\"/></a>,\n",
       " <a href=\"#\">Structure Deck: Cyber Strike</a>,\n",
       " <a class=\"btn\" href=\"/en/products/sdcs/\">Learn more &gt;</a>,\n",
       " <a href=\"#\"><img alt=\"Structure Deck: Freezing Chains\" src=\"/en/wp-content/uploads/2020/10/SDFC_550.png\"/></a>,\n",
       " <a href=\"#\">Structure Deck: Freezing Chains</a>,\n",
       " <a class=\"btn\" href=\"/en/products/sdfc/\">Learn more &gt;</a>,\n",
       " <a href=\"#\"><img alt=\"Structure Deck: Spirit Charmers\" src=\"/en/wp-content/uploads/2020/09/SDCH_550.png\"/></a>,\n",
       " <a href=\"#\">Structure Deck: Spirit Charmers</a>,\n",
       " <a class=\"btn\" href=\"/en/products/sdsc/\">Learn more &gt;</a>,\n",
       " <a href=\"#\"><img alt=\"Structure Deck: Sacred Beasts\" src=\"/en/wp-content/uploads/2020/09/SDSB_550.png\"/></a>,\n",
       " <a href=\"#\">Structure Deck: Sacred Beasts</a>,\n",
       " <a class=\"btn\" href=\"/en/products/sd_sacredbeasts/\">Learn more &gt;</a>,\n",
       " <a href=\"#\"><img alt=\"Structure Deck: Mechanized Madness\" src=\"/en/wp-content/uploads/2020/08/SR10_TuckBox_Mock_EN.png\"/></a>,\n",
       " <a href=\"#\">Structure Deck: Mechanized Madness</a>,\n",
       " <a class=\"btn\" href=\"/en/products/sr10/\">Learn more &gt;</a>,\n",
       " <a href=\"#\"><img alt=\"Structure Deck: Shaddoll Showdown\" src=\"/en/wp-content/uploads/2020/08/SDSS_Tuck_Mock_EN.png\"/></a>,\n",
       " <a href=\"#\">Structure Deck: Shaddoll Showdown</a>,\n",
       " <a class=\"btn\" href=\"/en/products/sdsh/\">Learn more &gt;</a>,\n",
       " <a href=\"#\"><img alt=\"Structure Deck: Rokket Revolt\" src=\"/en/wp-content/uploads/2020/08/SDRR_Tuck_Mock_EN.png\"/></a>,\n",
       " <a href=\"#\">Structure Deck: Rokket Revolt</a>,\n",
       " <a class=\"btn\" href=\"/en/products/sdrr/\">Learn more &gt;</a>,\n",
       " <a href=\"#\"><img alt=\"Structure Deck: Order of the Spellcasters\" src=\"/en/wp-content/uploads/2020/08/SR08_TBX_Mockup_EN.png\"/></a>,\n",
       " <a href=\"#\">Structure Deck: Order of the Spellcasters</a>,\n",
       " <a class=\"btn\" href=\"/en/products/sr08/\">Learn more &gt;</a>,\n",
       " <a href=\"#\"><img alt=\"Structure Deck: Soulburner\" src=\"/en/wp-content/uploads/2022/10/SDSB_550.png\"/></a>,\n",
       " <a href=\"#\">Structure Deck: Soulburner</a>,\n",
       " <a class=\"btn\" href=\"/en/products/sdsb/\">Learn more &gt;</a>,\n",
       " <a href=\"#\"><img alt=\"Structure Deck: Zombie Horde\" src=\"/en/wp-content/uploads/2020/08/SR07_Mock_Tuck_EN.png\"/></a>,\n",
       " <a href=\"#\">Structure Deck: Zombie Horde</a>,\n",
       " <a class=\"btn\" href=\"/en/products/sr07/\">Learn more &gt;</a>,\n",
       " <a href=\"#\"><img alt=\"Structure Deck: Powercode Link\" src=\"/en/wp-content/uploads/2020/09/SDPL_Tuck_EN.png\"/></a>,\n",
       " <a href=\"#\">Structure Deck: Powercode Link</a>,\n",
       " <a class=\"btn\" href=\"/en/products/sdpl/\">Learn more &gt;</a>,\n",
       " <a href=\"#\"><img alt=\"Structure Deck: Lair of Darkness\" src=\"/en/wp-content/uploads/2020/09/SR06_Mock_Tuck_EN.png\"/></a>,\n",
       " <a href=\"#\">Structure Deck: Lair of Darkness</a>,\n",
       " <a class=\"btn\" href=\"/en/products/sr06/\">Learn more &gt;</a>,\n",
       " <a href=\"#\"><img alt=\"Structure Deck: Wave of Light\" src=\"/en/wp-content/uploads/2020/09/SR05_Disp_Tuck_EN.png\"/></a>,\n",
       " <a href=\"#\">Structure Deck: Wave of Light</a>,\n",
       " <a class=\"btn\" href=\"/en/products/sr05/\">Learn more &gt;</a>,\n",
       " <a class=\"past-cta\" href=\"/en/products/past_products/structure-decks-archive/\">View Past Products → </a>,\n",
       " <a href=\"#\"><span class=\"pick\">SELECT LANGUAGE</span><span class=\"arrow\">∨</span></a>,\n",
       " <a href=\"\">English</a>,\n",
       " <a href=\"https://www.yugioh-card.com/lat-am/\">Español</a>,\n",
       " <a href=\"https://www.yugioh-card.com/lat-am/pt/\">Português</a>,\n",
       " <a href=\"/en/about/contact-us/\">Contact Us</a>,\n",
       " <a href=\"https://www.facebook.com/OfficialYuGiOhTCG\" target=\"_blank\"><img alt=\"\" src=\"/en/wp-content/uploads/2020/05/icon-fb.png\" width=\"55\"/></a>,\n",
       " <a href=\"https://www.youtube.com/user/OfficialYuGiOhTCG\" target=\"_blank\"><img alt=\"\" src=\"/en/wp-content/uploads/2020/05/icon-yt.png\" width=\"55\"/></a>,\n",
       " <a href=\"https://twitter.com/YuGiOh_TCG\" target=\"_blank\"><img alt=\"\" src=\"/en/wp-content/uploads/2020/05/icon-twitter.png\" width=\"55\"/></a>,\n",
       " <a href=\"https://www.instagram.com/officialyugiohtcg/\" target=\"_blank\"><img alt=\"\" src=\"/en/wp-content/uploads/2020/05/icon-ig.png\" width=\"55\"/></a>,\n",
       " <a href=\"https://www.twitch.tv/officialyugiohtcg\" target=\"_blank\"><img alt=\"\" src=\"/en/wp-content/uploads/2020/05/icon-twitch.png\" width=\"55\"/></a>,\n",
       " <a href=\"https://legal.konami.com/kdeus/privacy/en-us/\">Privacy</a>,\n",
       " <a href=\"https://legal.konami.com/kdeus/yugioh/terms/tou/en/\">Terms of Use</a>,\n",
       " <a href=\"https://legal.konami.com/kdeus/privacy/ca-notice-at-collection/en-us/\">California Notice At Collection</a>,\n",
       " <a href=\"/en/about/code-of-conduct/\">Code of Conduct</a>,\n",
       " <a class=\"ot-sdk-show-settings\" id=\"ot-sdk-btn\">COOKIE SETTINGS</a>,\n",
       " <a href=\"\" style=\"margin-right:0;\" target=\"_blank\"><img alt=\"\" height=\"72\" src=\"\"/></a>]"
      ]
     },
     "execution_count": 24,
     "metadata": {},
     "output_type": "execute_result"
    }
   ],
   "source": [
    "soup.select(\"a\", class_='#')"
   ]
  },
  {
   "cell_type": "markdown",
   "id": "9ab1217a-df9d-4a2b-a32c-2c5f1eecd52a",
   "metadata": {
    "id": "9ab1217a-df9d-4a2b-a32c-2c5f1eecd52a"
   },
   "source": [
    "## BONUS\n",
    "\n",
    "The search results span multiple pages, housing a total of 631 movies in our example with each page displaying 50 movies at most. To scrape data seamlessly from all pages, you'll need to dive deep into the structure of the URLs generated with each \"Next\" click.\n",
    "\n",
    "Take a close look at the following URLs:\n",
    "- First page:\n",
    "  ```\n",
    "  https://www.imdb.com/search/title/?title_type=feature&release_date=1990-01-01,1992-12-31&user_rating=7.5,\n",
    "  ```\n",
    "- Second page:\n",
    "  ```\n",
    "  https://www.imdb.com/search/title/?title_type=feature&release_date=1990-01-01,1992-12-31&user_rating=7.5,&start=51&ref_=adv_nxt\n",
    "  ```\n",
    "- Third page:\n",
    "  ```\n",
    "  https://www.imdb.com/search/title/?title_type=feature&release_date=1990-01-01,1992-12-31&user_rating=7.5,&start=101&ref_=adv_nxt\n",
    "  ```\n",
    "\n",
    "You should notice a pattern. There is a `start` parameter incrementing by 50 with each page, paired with a constant `ref_` parameter holding the value \"adv_nxt\".\n",
    "\n",
    "Modify your script so it's capable of iterating over all available pages to fetch data on all the 631 movies (631 is the total number of movies in the proposed example)."
   ]
  },
  {
   "cell_type": "code",
   "execution_count": null,
   "id": "21ac4fc0-a12b-4a00-9266-2020166f0dea",
   "metadata": {
    "id": "21ac4fc0-a12b-4a00-9266-2020166f0dea"
   },
   "outputs": [],
   "source": [
    "# Your solution goes here"
   ]
  }
 ],
 "metadata": {
  "colab": {
   "provenance": []
  },
  "kernelspec": {
   "display_name": "Python 3 (ipykernel)",
   "language": "python",
   "name": "python3"
  },
  "language_info": {
   "codemirror_mode": {
    "name": "ipython",
    "version": 3
   },
   "file_extension": ".py",
   "mimetype": "text/x-python",
   "name": "python",
   "nbconvert_exporter": "python",
   "pygments_lexer": "ipython3",
   "version": "3.11.5"
  }
 },
 "nbformat": 4,
 "nbformat_minor": 5
}
